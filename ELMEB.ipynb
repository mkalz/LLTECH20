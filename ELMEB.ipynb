{
 "cells": [
  {
   "cell_type": "markdown",
   "metadata": {},
   "source": [
    "# Introduction into correlation analysis"
   ]
  },
  {
   "cell_type": "markdown",
   "metadata": {},
   "source": [
    "In this task you have to find out if there are associations between variables. To analyse this you will conduct a correlation analysis."
   ]
  },
  {
   "cell_type": "markdown",
   "metadata": {},
   "source": [
    "College examn scores are the basis for access to higher education. An important question is what influences these examn score and how we can build policies in education that will make sure that we have equality and fair chances for everybody to get access to higher education. In the dataset by Kimmons (2012) you can explore the associations between 8 variables: 1.) gender,\t2.) race/ethnicity, 3.) parental level of education,\t4.) lunch provision, 5.) attendance of a test preparation course, 6.) math score,\t7.) reading score and 8.) writing score."
   ]
  },
  {
   "cell_type": "markdown",
   "metadata": {},
   "source": [
    "You have the following main research question: What influences college examn scores? Are there demographic variables (gender, race/ethnicity parental level of education) that infuence college examn scores? Are there contextual variables (lunch provision & attendance of test preparation course) that influence the college examn? Are the scores of math, reading and writing associated?"
   ]
  },
  {
   "cell_type": "code",
   "execution_count": 4,
   "metadata": {},
   "outputs": [],
   "source": [
    "gpa <- read.csv(\"http://roycekimmons.com/system/generate_data.php?dataset=exams&n=100\") ## First we create an object in\n",
    "## in the environment that we can use for further analysis. We download for this purpose the above mentioned public\n",
    "## datset"
   ]
  },
  {
   "cell_type": "code",
   "execution_count": 5,
   "metadata": {},
   "outputs": [
    {
     "data": {
      "text/html": [
       "<table>\n",
       "<thead><tr><th scope=col>gender</th><th scope=col>race.ethnicity</th><th scope=col>parental.level.of.education</th><th scope=col>lunch</th><th scope=col>test.preparation.course</th><th scope=col>math.score</th><th scope=col>reading.score</th><th scope=col>writing.score</th></tr></thead>\n",
       "<tbody>\n",
       "\t<tr><td>female            </td><td>group E           </td><td>master's degree   </td><td>standard          </td><td>none              </td><td>97                </td><td>90                </td><td>96                </td></tr>\n",
       "\t<tr><td>female            </td><td>group E           </td><td>high school       </td><td>standard          </td><td>none              </td><td>75                </td><td>81                </td><td>79                </td></tr>\n",
       "\t<tr><td>female            </td><td>group D           </td><td>some college      </td><td>standard          </td><td>none              </td><td>58                </td><td>66                </td><td>61                </td></tr>\n",
       "\t<tr><td>female            </td><td>group B           </td><td>high school       </td><td>free/reduced      </td><td>none              </td><td>52                </td><td>71                </td><td>64                </td></tr>\n",
       "\t<tr><td>male              </td><td>group C           </td><td>some high school  </td><td>standard          </td><td>none              </td><td>73                </td><td>75                </td><td>65                </td></tr>\n",
       "\t<tr><td>female            </td><td>group D           </td><td>some college      </td><td>standard          </td><td>none              </td><td>38                </td><td>44                </td><td>39                </td></tr>\n",
       "\t<tr><td>female            </td><td>group D           </td><td>master's degree   </td><td>free/reduced      </td><td>none              </td><td>73                </td><td>82                </td><td>81                </td></tr>\n",
       "\t<tr><td>male              </td><td>group D           </td><td>some high school  </td><td>standard          </td><td>none              </td><td>60                </td><td>57                </td><td>56                </td></tr>\n",
       "\t<tr><td>female            </td><td>group C           </td><td>some high school  </td><td>standard          </td><td>none              </td><td>49                </td><td>58                </td><td>55                </td></tr>\n",
       "\t<tr><td>female            </td><td>group E           </td><td>some college      </td><td>standard          </td><td>none              </td><td>75                </td><td>81                </td><td>82                </td></tr>\n",
       "\t<tr><td>male              </td><td>group D           </td><td>high school       </td><td>free/reduced      </td><td>completed         </td><td>56                </td><td>47                </td><td>51                </td></tr>\n",
       "\t<tr><td>male              </td><td>group E           </td><td>some college      </td><td>standard          </td><td>none              </td><td>75                </td><td>76                </td><td>66                </td></tr>\n",
       "\t<tr><td>female            </td><td>group B           </td><td>some college      </td><td>standard          </td><td>none              </td><td>86                </td><td>84                </td><td>87                </td></tr>\n",
       "\t<tr><td>male              </td><td>group C           </td><td>associate's degree</td><td>standard          </td><td>none              </td><td>93                </td><td>88                </td><td>84                </td></tr>\n",
       "\t<tr><td>male              </td><td>group E           </td><td>some high school  </td><td>standard          </td><td>none              </td><td>85                </td><td>78                </td><td>73                </td></tr>\n",
       "\t<tr><td>female            </td><td>group D           </td><td>some high school  </td><td>standard          </td><td>none              </td><td>61                </td><td>66                </td><td>64                </td></tr>\n",
       "\t<tr><td>female            </td><td>group B           </td><td>bachelor's degree </td><td>standard          </td><td>completed         </td><td>74                </td><td>91                </td><td>91                </td></tr>\n",
       "\t<tr><td>male              </td><td>group A           </td><td>master's degree   </td><td>standard          </td><td>none              </td><td>78                </td><td>78                </td><td>66                </td></tr>\n",
       "\t<tr><td>male              </td><td>group C           </td><td>high school       </td><td>standard          </td><td>none              </td><td>72                </td><td>73                </td><td>65                </td></tr>\n",
       "\t<tr><td>female            </td><td>group C           </td><td>master's degree   </td><td>standard          </td><td>none              </td><td>60                </td><td>72                </td><td>74                </td></tr>\n",
       "\t<tr><td>female            </td><td>group C           </td><td>some high school  </td><td>standard          </td><td>none              </td><td>59                </td><td>68                </td><td>70                </td></tr>\n",
       "\t<tr><td>female            </td><td>group A           </td><td>some college      </td><td>free/reduced      </td><td>completed         </td><td>45                </td><td>67                </td><td>64                </td></tr>\n",
       "\t<tr><td>male              </td><td>group A           </td><td>some high school  </td><td>standard          </td><td>completed         </td><td>80                </td><td>63                </td><td>66                </td></tr>\n",
       "\t<tr><td>female            </td><td>group D           </td><td>some college      </td><td>standard          </td><td>none              </td><td>62                </td><td>64                </td><td>66                </td></tr>\n",
       "\t<tr><td>female            </td><td>group C           </td><td>some college      </td><td>free/reduced      </td><td>none              </td><td>56                </td><td>62                </td><td>60                </td></tr>\n",
       "\t<tr><td>male              </td><td>group A           </td><td>bachelor's degree </td><td>free/reduced      </td><td>none              </td><td>64                </td><td>69                </td><td>64                </td></tr>\n",
       "\t<tr><td>male              </td><td>group C           </td><td>some college      </td><td>standard          </td><td>none              </td><td>63                </td><td>56                </td><td>52                </td></tr>\n",
       "\t<tr><td>female            </td><td>group D           </td><td>some college      </td><td>free/reduced      </td><td>none              </td><td>66                </td><td>76                </td><td>72                </td></tr>\n",
       "\t<tr><td>male              </td><td>group C           </td><td>bachelor's degree </td><td>standard          </td><td>none              </td><td>58                </td><td>55                </td><td>50                </td></tr>\n",
       "\t<tr><td>male              </td><td>group D           </td><td>bachelor's degree </td><td>standard          </td><td>completed         </td><td>85                </td><td>73                </td><td>83                </td></tr>\n",
       "\t<tr><td>⋮</td><td>⋮</td><td>⋮</td><td>⋮</td><td>⋮</td><td>⋮</td><td>⋮</td><td>⋮</td></tr>\n",
       "\t<tr><td>male              </td><td>group B           </td><td>some high school  </td><td>standard          </td><td>none              </td><td> 57               </td><td> 54               </td><td>47                </td></tr>\n",
       "\t<tr><td>female            </td><td>group C           </td><td>associate's degree</td><td>standard          </td><td>none              </td><td> 48               </td><td> 55               </td><td>51                </td></tr>\n",
       "\t<tr><td>female            </td><td>group D           </td><td>associate's degree</td><td>standard          </td><td>none              </td><td> 68               </td><td> 79               </td><td>79                </td></tr>\n",
       "\t<tr><td>female            </td><td>group B           </td><td>some high school  </td><td>free/reduced      </td><td>completed         </td><td> 45               </td><td> 66               </td><td>53                </td></tr>\n",
       "\t<tr><td>female            </td><td>group A           </td><td>associate's degree</td><td>standard          </td><td>none              </td><td> 74               </td><td> 83               </td><td>78                </td></tr>\n",
       "\t<tr><td>female            </td><td>group A           </td><td>some college      </td><td>standard          </td><td>none              </td><td> 69               </td><td> 85               </td><td>80                </td></tr>\n",
       "\t<tr><td>male              </td><td>group C           </td><td>master's degree   </td><td>free/reduced      </td><td>completed         </td><td> 58               </td><td> 68               </td><td>64                </td></tr>\n",
       "\t<tr><td>female            </td><td>group D           </td><td>some college      </td><td>standard          </td><td>none              </td><td> 50               </td><td> 64               </td><td>60                </td></tr>\n",
       "\t<tr><td>male              </td><td>group D           </td><td>associate's degree</td><td>standard          </td><td>none              </td><td> 58               </td><td> 55               </td><td>56                </td></tr>\n",
       "\t<tr><td>female            </td><td>group C           </td><td>high school       </td><td>free/reduced      </td><td>none              </td><td> 38               </td><td> 49               </td><td>44                </td></tr>\n",
       "\t<tr><td>female            </td><td>group E           </td><td>associate's degree</td><td>standard          </td><td>none              </td><td> 83               </td><td> 73               </td><td>80                </td></tr>\n",
       "\t<tr><td>female            </td><td>group B           </td><td>high school       </td><td>free/reduced      </td><td>none              </td><td> 47               </td><td> 54               </td><td>56                </td></tr>\n",
       "\t<tr><td>female            </td><td>group D           </td><td>some high school  </td><td>standard          </td><td>none              </td><td> 78               </td><td> 88               </td><td>94                </td></tr>\n",
       "\t<tr><td>male              </td><td>group B           </td><td>associate's degree</td><td>free/reduced      </td><td>completed         </td><td> 73               </td><td> 78               </td><td>81                </td></tr>\n",
       "\t<tr><td>female            </td><td>group E           </td><td>bachelor's degree </td><td>free/reduced      </td><td>completed         </td><td> 79               </td><td> 83               </td><td>86                </td></tr>\n",
       "\t<tr><td>male              </td><td>group B           </td><td>bachelor's degree </td><td>standard          </td><td>none              </td><td> 55               </td><td> 50               </td><td>46                </td></tr>\n",
       "\t<tr><td>female            </td><td>group A           </td><td>master's degree   </td><td>standard          </td><td>none              </td><td> 45               </td><td> 63               </td><td>63                </td></tr>\n",
       "\t<tr><td>male              </td><td>group C           </td><td>some high school  </td><td>free/reduced      </td><td>none              </td><td> 50               </td><td> 47               </td><td>43                </td></tr>\n",
       "\t<tr><td>female            </td><td>group C           </td><td>high school       </td><td>standard          </td><td>none              </td><td> 83               </td><td> 97               </td><td>90                </td></tr>\n",
       "\t<tr><td>female            </td><td>group C           </td><td>some college      </td><td>free/reduced      </td><td>none              </td><td> 45               </td><td> 58               </td><td>52                </td></tr>\n",
       "\t<tr><td>female            </td><td>group B           </td><td>some college      </td><td>free/reduced      </td><td>none              </td><td> 46               </td><td> 59               </td><td>51                </td></tr>\n",
       "\t<tr><td>male              </td><td>group E           </td><td>master's degree   </td><td>standard          </td><td>completed         </td><td>100               </td><td> 94               </td><td>93                </td></tr>\n",
       "\t<tr><td>male              </td><td>group D           </td><td>high school       </td><td>standard          </td><td>completed         </td><td> 61               </td><td> 54               </td><td>54                </td></tr>\n",
       "\t<tr><td>male              </td><td>group C           </td><td>bachelor's degree </td><td>free/reduced      </td><td>none              </td><td> 59               </td><td> 60               </td><td>52                </td></tr>\n",
       "\t<tr><td>male              </td><td>group C           </td><td>some high school  </td><td>standard          </td><td>completed         </td><td> 65               </td><td> 55               </td><td>58                </td></tr>\n",
       "\t<tr><td>male              </td><td>group D           </td><td>high school       </td><td>standard          </td><td>none              </td><td> 86               </td><td> 91               </td><td>83                </td></tr>\n",
       "\t<tr><td>male              </td><td>group C           </td><td>some college      </td><td>standard          </td><td>completed         </td><td> 71               </td><td> 70               </td><td>66                </td></tr>\n",
       "\t<tr><td>female            </td><td>group C           </td><td>master's degree   </td><td>standard          </td><td>completed         </td><td> 56               </td><td> 81               </td><td>79                </td></tr>\n",
       "\t<tr><td>female            </td><td>group E           </td><td>high school       </td><td>standard          </td><td>completed         </td><td>100               </td><td>100               </td><td>98                </td></tr>\n",
       "\t<tr><td>female            </td><td>group D           </td><td>master's degree   </td><td>free/reduced      </td><td>none              </td><td> 55               </td><td> 70               </td><td>69                </td></tr>\n",
       "</tbody>\n",
       "</table>\n"
      ],
      "text/latex": [
       "\\begin{tabular}{r|llllllll}\n",
       " gender & race.ethnicity & parental.level.of.education & lunch & test.preparation.course & math.score & reading.score & writing.score\\\\\n",
       "\\hline\n",
       "\t female             & group E            & master's degree    & standard           & none               & 97                 & 90                 & 96                \\\\\n",
       "\t female             & group E            & high school        & standard           & none               & 75                 & 81                 & 79                \\\\\n",
       "\t female             & group D            & some college       & standard           & none               & 58                 & 66                 & 61                \\\\\n",
       "\t female             & group B            & high school        & free/reduced       & none               & 52                 & 71                 & 64                \\\\\n",
       "\t male               & group C            & some high school   & standard           & none               & 73                 & 75                 & 65                \\\\\n",
       "\t female             & group D            & some college       & standard           & none               & 38                 & 44                 & 39                \\\\\n",
       "\t female             & group D            & master's degree    & free/reduced       & none               & 73                 & 82                 & 81                \\\\\n",
       "\t male               & group D            & some high school   & standard           & none               & 60                 & 57                 & 56                \\\\\n",
       "\t female             & group C            & some high school   & standard           & none               & 49                 & 58                 & 55                \\\\\n",
       "\t female             & group E            & some college       & standard           & none               & 75                 & 81                 & 82                \\\\\n",
       "\t male               & group D            & high school        & free/reduced       & completed          & 56                 & 47                 & 51                \\\\\n",
       "\t male               & group E            & some college       & standard           & none               & 75                 & 76                 & 66                \\\\\n",
       "\t female             & group B            & some college       & standard           & none               & 86                 & 84                 & 87                \\\\\n",
       "\t male               & group C            & associate's degree & standard           & none               & 93                 & 88                 & 84                \\\\\n",
       "\t male               & group E            & some high school   & standard           & none               & 85                 & 78                 & 73                \\\\\n",
       "\t female             & group D            & some high school   & standard           & none               & 61                 & 66                 & 64                \\\\\n",
       "\t female             & group B            & bachelor's degree  & standard           & completed          & 74                 & 91                 & 91                \\\\\n",
       "\t male               & group A            & master's degree    & standard           & none               & 78                 & 78                 & 66                \\\\\n",
       "\t male               & group C            & high school        & standard           & none               & 72                 & 73                 & 65                \\\\\n",
       "\t female             & group C            & master's degree    & standard           & none               & 60                 & 72                 & 74                \\\\\n",
       "\t female             & group C            & some high school   & standard           & none               & 59                 & 68                 & 70                \\\\\n",
       "\t female             & group A            & some college       & free/reduced       & completed          & 45                 & 67                 & 64                \\\\\n",
       "\t male               & group A            & some high school   & standard           & completed          & 80                 & 63                 & 66                \\\\\n",
       "\t female             & group D            & some college       & standard           & none               & 62                 & 64                 & 66                \\\\\n",
       "\t female             & group C            & some college       & free/reduced       & none               & 56                 & 62                 & 60                \\\\\n",
       "\t male               & group A            & bachelor's degree  & free/reduced       & none               & 64                 & 69                 & 64                \\\\\n",
       "\t male               & group C            & some college       & standard           & none               & 63                 & 56                 & 52                \\\\\n",
       "\t female             & group D            & some college       & free/reduced       & none               & 66                 & 76                 & 72                \\\\\n",
       "\t male               & group C            & bachelor's degree  & standard           & none               & 58                 & 55                 & 50                \\\\\n",
       "\t male               & group D            & bachelor's degree  & standard           & completed          & 85                 & 73                 & 83                \\\\\n",
       "\t ⋮ & ⋮ & ⋮ & ⋮ & ⋮ & ⋮ & ⋮ & ⋮\\\\\n",
       "\t male               & group B            & some high school   & standard           & none               &  57                &  54                & 47                \\\\\n",
       "\t female             & group C            & associate's degree & standard           & none               &  48                &  55                & 51                \\\\\n",
       "\t female             & group D            & associate's degree & standard           & none               &  68                &  79                & 79                \\\\\n",
       "\t female             & group B            & some high school   & free/reduced       & completed          &  45                &  66                & 53                \\\\\n",
       "\t female             & group A            & associate's degree & standard           & none               &  74                &  83                & 78                \\\\\n",
       "\t female             & group A            & some college       & standard           & none               &  69                &  85                & 80                \\\\\n",
       "\t male               & group C            & master's degree    & free/reduced       & completed          &  58                &  68                & 64                \\\\\n",
       "\t female             & group D            & some college       & standard           & none               &  50                &  64                & 60                \\\\\n",
       "\t male               & group D            & associate's degree & standard           & none               &  58                &  55                & 56                \\\\\n",
       "\t female             & group C            & high school        & free/reduced       & none               &  38                &  49                & 44                \\\\\n",
       "\t female             & group E            & associate's degree & standard           & none               &  83                &  73                & 80                \\\\\n",
       "\t female             & group B            & high school        & free/reduced       & none               &  47                &  54                & 56                \\\\\n",
       "\t female             & group D            & some high school   & standard           & none               &  78                &  88                & 94                \\\\\n",
       "\t male               & group B            & associate's degree & free/reduced       & completed          &  73                &  78                & 81                \\\\\n",
       "\t female             & group E            & bachelor's degree  & free/reduced       & completed          &  79                &  83                & 86                \\\\\n",
       "\t male               & group B            & bachelor's degree  & standard           & none               &  55                &  50                & 46                \\\\\n",
       "\t female             & group A            & master's degree    & standard           & none               &  45                &  63                & 63                \\\\\n",
       "\t male               & group C            & some high school   & free/reduced       & none               &  50                &  47                & 43                \\\\\n",
       "\t female             & group C            & high school        & standard           & none               &  83                &  97                & 90                \\\\\n",
       "\t female             & group C            & some college       & free/reduced       & none               &  45                &  58                & 52                \\\\\n",
       "\t female             & group B            & some college       & free/reduced       & none               &  46                &  59                & 51                \\\\\n",
       "\t male               & group E            & master's degree    & standard           & completed          & 100                &  94                & 93                \\\\\n",
       "\t male               & group D            & high school        & standard           & completed          &  61                &  54                & 54                \\\\\n",
       "\t male               & group C            & bachelor's degree  & free/reduced       & none               &  59                &  60                & 52                \\\\\n",
       "\t male               & group C            & some high school   & standard           & completed          &  65                &  55                & 58                \\\\\n",
       "\t male               & group D            & high school        & standard           & none               &  86                &  91                & 83                \\\\\n",
       "\t male               & group C            & some college       & standard           & completed          &  71                &  70                & 66                \\\\\n",
       "\t female             & group C            & master's degree    & standard           & completed          &  56                &  81                & 79                \\\\\n",
       "\t female             & group E            & high school        & standard           & completed          & 100                & 100                & 98                \\\\\n",
       "\t female             & group D            & master's degree    & free/reduced       & none               &  55                &  70                & 69                \\\\\n",
       "\\end{tabular}\n"
      ],
      "text/markdown": [
       "\n",
       "gender | race.ethnicity | parental.level.of.education | lunch | test.preparation.course | math.score | reading.score | writing.score | \n",
       "|---|---|---|---|---|---|---|---|---|---|---|---|---|---|---|---|---|---|---|---|---|---|---|---|---|---|---|---|---|---|---|---|---|---|---|---|---|---|---|---|---|---|---|---|---|---|---|---|---|---|---|---|---|---|---|---|---|---|---|---|---|\n",
       "| female             | group E            | master's degree    | standard           | none               | 97                 | 90                 | 96                 | \n",
       "| female             | group E            | high school        | standard           | none               | 75                 | 81                 | 79                 | \n",
       "| female             | group D            | some college       | standard           | none               | 58                 | 66                 | 61                 | \n",
       "| female             | group B            | high school        | free/reduced       | none               | 52                 | 71                 | 64                 | \n",
       "| male               | group C            | some high school   | standard           | none               | 73                 | 75                 | 65                 | \n",
       "| female             | group D            | some college       | standard           | none               | 38                 | 44                 | 39                 | \n",
       "| female             | group D            | master's degree    | free/reduced       | none               | 73                 | 82                 | 81                 | \n",
       "| male               | group D            | some high school   | standard           | none               | 60                 | 57                 | 56                 | \n",
       "| female             | group C            | some high school   | standard           | none               | 49                 | 58                 | 55                 | \n",
       "| female             | group E            | some college       | standard           | none               | 75                 | 81                 | 82                 | \n",
       "| male               | group D            | high school        | free/reduced       | completed          | 56                 | 47                 | 51                 | \n",
       "| male               | group E            | some college       | standard           | none               | 75                 | 76                 | 66                 | \n",
       "| female             | group B            | some college       | standard           | none               | 86                 | 84                 | 87                 | \n",
       "| male               | group C            | associate's degree | standard           | none               | 93                 | 88                 | 84                 | \n",
       "| male               | group E            | some high school   | standard           | none               | 85                 | 78                 | 73                 | \n",
       "| female             | group D            | some high school   | standard           | none               | 61                 | 66                 | 64                 | \n",
       "| female             | group B            | bachelor's degree  | standard           | completed          | 74                 | 91                 | 91                 | \n",
       "| male               | group A            | master's degree    | standard           | none               | 78                 | 78                 | 66                 | \n",
       "| male               | group C            | high school        | standard           | none               | 72                 | 73                 | 65                 | \n",
       "| female             | group C            | master's degree    | standard           | none               | 60                 | 72                 | 74                 | \n",
       "| female             | group C            | some high school   | standard           | none               | 59                 | 68                 | 70                 | \n",
       "| female             | group A            | some college       | free/reduced       | completed          | 45                 | 67                 | 64                 | \n",
       "| male               | group A            | some high school   | standard           | completed          | 80                 | 63                 | 66                 | \n",
       "| female             | group D            | some college       | standard           | none               | 62                 | 64                 | 66                 | \n",
       "| female             | group C            | some college       | free/reduced       | none               | 56                 | 62                 | 60                 | \n",
       "| male               | group A            | bachelor's degree  | free/reduced       | none               | 64                 | 69                 | 64                 | \n",
       "| male               | group C            | some college       | standard           | none               | 63                 | 56                 | 52                 | \n",
       "| female             | group D            | some college       | free/reduced       | none               | 66                 | 76                 | 72                 | \n",
       "| male               | group C            | bachelor's degree  | standard           | none               | 58                 | 55                 | 50                 | \n",
       "| male               | group D            | bachelor's degree  | standard           | completed          | 85                 | 73                 | 83                 | \n",
       "| ⋮ | ⋮ | ⋮ | ⋮ | ⋮ | ⋮ | ⋮ | ⋮ | \n",
       "| male               | group B            | some high school   | standard           | none               |  57                |  54                | 47                 | \n",
       "| female             | group C            | associate's degree | standard           | none               |  48                |  55                | 51                 | \n",
       "| female             | group D            | associate's degree | standard           | none               |  68                |  79                | 79                 | \n",
       "| female             | group B            | some high school   | free/reduced       | completed          |  45                |  66                | 53                 | \n",
       "| female             | group A            | associate's degree | standard           | none               |  74                |  83                | 78                 | \n",
       "| female             | group A            | some college       | standard           | none               |  69                |  85                | 80                 | \n",
       "| male               | group C            | master's degree    | free/reduced       | completed          |  58                |  68                | 64                 | \n",
       "| female             | group D            | some college       | standard           | none               |  50                |  64                | 60                 | \n",
       "| male               | group D            | associate's degree | standard           | none               |  58                |  55                | 56                 | \n",
       "| female             | group C            | high school        | free/reduced       | none               |  38                |  49                | 44                 | \n",
       "| female             | group E            | associate's degree | standard           | none               |  83                |  73                | 80                 | \n",
       "| female             | group B            | high school        | free/reduced       | none               |  47                |  54                | 56                 | \n",
       "| female             | group D            | some high school   | standard           | none               |  78                |  88                | 94                 | \n",
       "| male               | group B            | associate's degree | free/reduced       | completed          |  73                |  78                | 81                 | \n",
       "| female             | group E            | bachelor's degree  | free/reduced       | completed          |  79                |  83                | 86                 | \n",
       "| male               | group B            | bachelor's degree  | standard           | none               |  55                |  50                | 46                 | \n",
       "| female             | group A            | master's degree    | standard           | none               |  45                |  63                | 63                 | \n",
       "| male               | group C            | some high school   | free/reduced       | none               |  50                |  47                | 43                 | \n",
       "| female             | group C            | high school        | standard           | none               |  83                |  97                | 90                 | \n",
       "| female             | group C            | some college       | free/reduced       | none               |  45                |  58                | 52                 | \n",
       "| female             | group B            | some college       | free/reduced       | none               |  46                |  59                | 51                 | \n",
       "| male               | group E            | master's degree    | standard           | completed          | 100                |  94                | 93                 | \n",
       "| male               | group D            | high school        | standard           | completed          |  61                |  54                | 54                 | \n",
       "| male               | group C            | bachelor's degree  | free/reduced       | none               |  59                |  60                | 52                 | \n",
       "| male               | group C            | some high school   | standard           | completed          |  65                |  55                | 58                 | \n",
       "| male               | group D            | high school        | standard           | none               |  86                |  91                | 83                 | \n",
       "| male               | group C            | some college       | standard           | completed          |  71                |  70                | 66                 | \n",
       "| female             | group C            | master's degree    | standard           | completed          |  56                |  81                | 79                 | \n",
       "| female             | group E            | high school        | standard           | completed          | 100                | 100                | 98                 | \n",
       "| female             | group D            | master's degree    | free/reduced       | none               |  55                |  70                | 69                 | \n",
       "\n",
       "\n"
      ],
      "text/plain": [
       "    gender race.ethnicity parental.level.of.education lunch       \n",
       "1   female group E        master's degree             standard    \n",
       "2   female group E        high school                 standard    \n",
       "3   female group D        some college                standard    \n",
       "4   female group B        high school                 free/reduced\n",
       "5   male   group C        some high school            standard    \n",
       "6   female group D        some college                standard    \n",
       "7   female group D        master's degree             free/reduced\n",
       "8   male   group D        some high school            standard    \n",
       "9   female group C        some high school            standard    \n",
       "10  female group E        some college                standard    \n",
       "11  male   group D        high school                 free/reduced\n",
       "12  male   group E        some college                standard    \n",
       "13  female group B        some college                standard    \n",
       "14  male   group C        associate's degree          standard    \n",
       "15  male   group E        some high school            standard    \n",
       "16  female group D        some high school            standard    \n",
       "17  female group B        bachelor's degree           standard    \n",
       "18  male   group A        master's degree             standard    \n",
       "19  male   group C        high school                 standard    \n",
       "20  female group C        master's degree             standard    \n",
       "21  female group C        some high school            standard    \n",
       "22  female group A        some college                free/reduced\n",
       "23  male   group A        some high school            standard    \n",
       "24  female group D        some college                standard    \n",
       "25  female group C        some college                free/reduced\n",
       "26  male   group A        bachelor's degree           free/reduced\n",
       "27  male   group C        some college                standard    \n",
       "28  female group D        some college                free/reduced\n",
       "29  male   group C        bachelor's degree           standard    \n",
       "30  male   group D        bachelor's degree           standard    \n",
       "⋮   ⋮      ⋮              ⋮                           ⋮           \n",
       "71  male   group B        some high school            standard    \n",
       "72  female group C        associate's degree          standard    \n",
       "73  female group D        associate's degree          standard    \n",
       "74  female group B        some high school            free/reduced\n",
       "75  female group A        associate's degree          standard    \n",
       "76  female group A        some college                standard    \n",
       "77  male   group C        master's degree             free/reduced\n",
       "78  female group D        some college                standard    \n",
       "79  male   group D        associate's degree          standard    \n",
       "80  female group C        high school                 free/reduced\n",
       "81  female group E        associate's degree          standard    \n",
       "82  female group B        high school                 free/reduced\n",
       "83  female group D        some high school            standard    \n",
       "84  male   group B        associate's degree          free/reduced\n",
       "85  female group E        bachelor's degree           free/reduced\n",
       "86  male   group B        bachelor's degree           standard    \n",
       "87  female group A        master's degree             standard    \n",
       "88  male   group C        some high school            free/reduced\n",
       "89  female group C        high school                 standard    \n",
       "90  female group C        some college                free/reduced\n",
       "91  female group B        some college                free/reduced\n",
       "92  male   group E        master's degree             standard    \n",
       "93  male   group D        high school                 standard    \n",
       "94  male   group C        bachelor's degree           free/reduced\n",
       "95  male   group C        some high school            standard    \n",
       "96  male   group D        high school                 standard    \n",
       "97  male   group C        some college                standard    \n",
       "98  female group C        master's degree             standard    \n",
       "99  female group E        high school                 standard    \n",
       "100 female group D        master's degree             free/reduced\n",
       "    test.preparation.course math.score reading.score writing.score\n",
       "1   none                    97         90            96           \n",
       "2   none                    75         81            79           \n",
       "3   none                    58         66            61           \n",
       "4   none                    52         71            64           \n",
       "5   none                    73         75            65           \n",
       "6   none                    38         44            39           \n",
       "7   none                    73         82            81           \n",
       "8   none                    60         57            56           \n",
       "9   none                    49         58            55           \n",
       "10  none                    75         81            82           \n",
       "11  completed               56         47            51           \n",
       "12  none                    75         76            66           \n",
       "13  none                    86         84            87           \n",
       "14  none                    93         88            84           \n",
       "15  none                    85         78            73           \n",
       "16  none                    61         66            64           \n",
       "17  completed               74         91            91           \n",
       "18  none                    78         78            66           \n",
       "19  none                    72         73            65           \n",
       "20  none                    60         72            74           \n",
       "21  none                    59         68            70           \n",
       "22  completed               45         67            64           \n",
       "23  completed               80         63            66           \n",
       "24  none                    62         64            66           \n",
       "25  none                    56         62            60           \n",
       "26  none                    64         69            64           \n",
       "27  none                    63         56            52           \n",
       "28  none                    66         76            72           \n",
       "29  none                    58         55            50           \n",
       "30  completed               85         73            83           \n",
       "⋮   ⋮                       ⋮          ⋮             ⋮            \n",
       "71  none                     57         54           47           \n",
       "72  none                     48         55           51           \n",
       "73  none                     68         79           79           \n",
       "74  completed                45         66           53           \n",
       "75  none                     74         83           78           \n",
       "76  none                     69         85           80           \n",
       "77  completed                58         68           64           \n",
       "78  none                     50         64           60           \n",
       "79  none                     58         55           56           \n",
       "80  none                     38         49           44           \n",
       "81  none                     83         73           80           \n",
       "82  none                     47         54           56           \n",
       "83  none                     78         88           94           \n",
       "84  completed                73         78           81           \n",
       "85  completed                79         83           86           \n",
       "86  none                     55         50           46           \n",
       "87  none                     45         63           63           \n",
       "88  none                     50         47           43           \n",
       "89  none                     83         97           90           \n",
       "90  none                     45         58           52           \n",
       "91  none                     46         59           51           \n",
       "92  completed               100         94           93           \n",
       "93  completed                61         54           54           \n",
       "94  none                     59         60           52           \n",
       "95  completed                65         55           58           \n",
       "96  none                     86         91           83           \n",
       "97  completed                71         70           66           \n",
       "98  completed                56         81           79           \n",
       "99  completed               100        100           98           \n",
       "100 none                     55         70           69           "
      ]
     },
     "metadata": {},
     "output_type": "display_data"
    }
   ],
   "source": [
    "gpa ## This shows us the content of the object"
   ]
  },
  {
   "cell_type": "code",
   "execution_count": 15,
   "metadata": {},
   "outputs": [
    {
     "data": {
      "text/html": [
       "0.782695891659136"
      ],
      "text/latex": [
       "0.782695891659136"
      ],
      "text/markdown": [
       "0.782695891659136"
      ],
      "text/plain": [
       "[1] 0.7826959"
      ]
     },
     "metadata": {},
     "output_type": "display_data"
    },
    {
     "data": {
      "text/html": [
       "0.794295410213767"
      ],
      "text/latex": [
       "0.794295410213767"
      ],
      "text/markdown": [
       "0.794295410213767"
      ],
      "text/plain": [
       "[1] 0.7942954"
      ]
     },
     "metadata": {},
     "output_type": "display_data"
    },
    {
     "data": {
      "text/html": [
       "0.945404357727231"
      ],
      "text/latex": [
       "0.945404357727231"
      ],
      "text/markdown": [
       "0.945404357727231"
      ],
      "text/plain": [
       "[1] 0.9454044"
      ]
     },
     "metadata": {},
     "output_type": "display_data"
    }
   ],
   "source": [
    "cor(gpa$math.score, gpa$reading.score)## First we compare the pairwise correlation between our numeric variales.\n",
    "cor(gpa$math.score, gpa$writing.score)\n",
    "cor(gpa$writing.score, gpa$reading.score)"
   ]
  },
  {
   "cell_type": "markdown",
   "metadata": {},
   "source": [
    "What do these results tell us about our research questions?"
   ]
  }
 ],
 "metadata": {
  "kernelspec": {
   "display_name": "R",
   "language": "R",
   "name": "ir"
  },
  "language_info": {
   "codemirror_mode": "r",
   "file_extension": ".r",
   "mimetype": "text/x-r-source",
   "name": "R",
   "pygments_lexer": "r",
   "version": "3.5.1"
  }
 },
 "nbformat": 4,
 "nbformat_minor": 2
}
