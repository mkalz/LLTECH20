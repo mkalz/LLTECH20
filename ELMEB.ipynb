{
 "cells": [
  {
   "cell_type": "markdown",
   "metadata": {},
   "source": [
    "# Introduction into correlation analysis"
   ]
  },
  {
   "cell_type": "markdown",
   "metadata": {},
   "source": [
    "In this task you have to find out if there are associations between variables. To analyse this you will conduct a correlation analysis."
   ]
  },
  {
   "cell_type": "markdown",
   "metadata": {},
   "source": [
    "College examn scores are the basis for access to higher education. An important question is what influences these examn score and how we can build policies in education that will make sure that we have equality and fair chances for everybody to get access to higher education. In the dataset by Kimmons (2012) you can explore the associations between 8 variables: 1.) gender,\t2.) race/ethnicity, 3.) parental level of education,\t4.) lunch provision, 5.) attendance of a test preparation course, 6.) math score,\t7.) reading score and 8.) writing score."
   ]
  },
  {
   "cell_type": "markdown",
   "metadata": {},
   "source": [
    "You have the following main research question: What influences college examn scores? Are there demographic variables (gender, race/ethnicity parental level of education) that infuence college examn scores? Are there contextual variables (lunch provision & attendance of test preparation course) that influence the college examn? Are the scores of math, reading and writing associated?"
   ]
  },
  {
   "cell_type": "code",
   "execution_count": 4,
   "metadata": {},
   "outputs": [],
   "source": [
    "gpa <- read.csv(\"http://roycekimmons.com/system/generate_data.php?dataset=exams&n=100\") ## First we create an object in\n",
    "## in the environment that we can use for further analysis. We download for this purpose the above mentioned public\n",
    "## datset"
   ]
  },
  {
   "cell_type": "code",
   "execution_count": null,
   "metadata": {},
   "outputs": [],
   "source": [
    "gpa ## This shows us the content of the object"
   ]
  },
  {
   "cell_type": "code",
   "execution_count": 15,
   "metadata": {},
   "outputs": [
    {
     "data": {
      "text/html": [
       "0.782695891659136"
      ],
      "text/latex": [
       "0.782695891659136"
      ],
      "text/markdown": [
       "0.782695891659136"
      ],
      "text/plain": [
       "[1] 0.7826959"
      ]
     },
     "metadata": {},
     "output_type": "display_data"
    },
    {
     "data": {
      "text/html": [
       "0.794295410213767"
      ],
      "text/latex": [
       "0.794295410213767"
      ],
      "text/markdown": [
       "0.794295410213767"
      ],
      "text/plain": [
       "[1] 0.7942954"
      ]
     },
     "metadata": {},
     "output_type": "display_data"
    },
    {
     "data": {
      "text/html": [
       "0.945404357727231"
      ],
      "text/latex": [
       "0.945404357727231"
      ],
      "text/markdown": [
       "0.945404357727231"
      ],
      "text/plain": [
       "[1] 0.9454044"
      ]
     },
     "metadata": {},
     "output_type": "display_data"
    }
   ],
   "source": [
    "cor(gpa$math.score, gpa$reading.score)## First we compare the pairwise correlation between our numeric variales.\n",
    "cor(gpa$math.score, gpa$writing.score)\n",
    "cor(gpa$writing.score, gpa$reading.score)"
   ]
  },
  {
   "cell_type": "markdown",
   "metadata": {},
   "source": [
    "What do these results tell us about our research questions?"
   ]
  }
 ],
 "metadata": {
  "kernelspec": {
   "display_name": "R",
   "language": "R",
   "name": "ir"
  },
  "language_info": {
   "codemirror_mode": "r",
   "file_extension": ".r",
   "mimetype": "text/x-r-source",
   "name": "R",
   "pygments_lexer": "r",
   "version": "3.5.1"
  }
 },
 "nbformat": 4,
 "nbformat_minor": 2
}
